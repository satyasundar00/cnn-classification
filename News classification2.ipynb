{
 "cells": [
  {
   "cell_type": "code",
   "execution_count": null,
   "id": "47a7b285",
   "metadata": {},
   "outputs": [],
   "source": [
    "import nltk\n",
    "import pandas as pd"
   ]
  },
  {
   "cell_type": "code",
   "execution_count": null,
   "id": "9bf70199",
   "metadata": {},
   "outputs": [],
   "source": [
    "nltk.download('punkt')"
   ]
  },
  {
   "cell_type": "code",
   "execution_count": null,
   "id": "fe56eba8",
   "metadata": {},
   "outputs": [],
   "source": [
    "fake=pd.read_csv(\"Fake.csv\")\n",
    "genuine=pd.read_csv(\"True.csv\")"
   ]
  },
  {
   "cell_type": "code",
   "execution_count": null,
   "id": "5d91188a",
   "metadata": {},
   "outputs": [],
   "source": [
    "display(fake.head())"
   ]
  },
  {
   "cell_type": "code",
   "execution_count": null,
   "id": "539cc77c",
   "metadata": {},
   "outputs": [],
   "source": [
    "fake('genuineness')=0\n",
    "genuine('genuineness')=0"
   ]
  },
  {
   "cell_type": "code",
   "execution_count": null,
   "id": "9317f2c3",
   "metadata": {},
   "outputs": [],
   "source": [
    "data=pd.concat([fake,genuine],axis=0)"
   ]
  },
  {
   "cell_type": "code",
   "execution_count": null,
   "id": "9a1ec0de",
   "metadata": {},
   "outputs": [],
   "source": [
    "display(data.head())"
   ]
  },
  {
   "cell_type": "code",
   "execution_count": null,
   "id": "6ecce2f6",
   "metadata": {},
   "outputs": [],
   "source": [
    "data=data.reset_index(drop=True)"
   ]
  },
  {
   "cell_type": "code",
   "execution_count": null,
   "id": "a3676d74",
   "metadata": {},
   "outputs": [],
   "source": [
    "data=data.drop(['subject','date','title'],axis=1)"
   ]
  },
  {
   "cell_type": "code",
   "execution_count": null,
   "id": "893bb1df",
   "metadata": {},
   "outputs": [],
   "source": [
    "#preprocessing"
   ]
  },
  {
   "cell_type": "code",
   "execution_count": null,
   "id": "c1f186dc",
   "metadata": {},
   "outputs": [],
   "source": [
    "#tokenization\n",
    "from nltk.tokenize import word_tokenize\n",
    "data['text']=data['text'].apply(word_tokenize)"
   ]
  },
  {
   "cell_type": "code",
   "execution_count": null,
   "id": "59a30bb1",
   "metadata": {},
   "outputs": [],
   "source": [
    "#stemmming\n",
    "from nltk.stem.snowball import SnowballStemmer\n",
    "sb=sb=SnowballStemmer(\"english\",ignore_stopwords=False)"
   ]
  },
  {
   "cell_type": "code",
   "execution_count": null,
   "id": "032a0225",
   "metadata": {},
   "outputs": [],
   "source": [
    "def stem_it(text)\n",
    "  return[sb.stem(word) for word in text]"
   ]
  },
  {
   "cell_type": "code",
   "execution_count": null,
   "id": "f35d8703",
   "metadata": {},
   "outputs": [],
   "source": [
    "data['text']=data['text'].apply(stem_it)"
   ]
  },
  {
   "cell_type": "code",
   "execution_count": null,
   "id": "3a15d0e3",
   "metadata": {},
   "outputs": [],
   "source": []
  },
  {
   "cell_type": "code",
   "execution_count": null,
   "id": "38add5cf",
   "metadata": {},
   "outputs": [],
   "source": [
    "#stopwordsremoval\n",
    "def stopword_remove(t)\n",
    "  return[word for word in t if len(word)>>2]"
   ]
  },
  {
   "cell_type": "code",
   "execution_count": null,
   "id": "6e247386",
   "metadata": {},
   "outputs": [],
   "source": [
    "data['text']=data['text'].apply(stopword_remove)"
   ]
  },
  {
   "cell_type": "code",
   "execution_count": null,
   "id": "dd9151ca",
   "metadata": {},
   "outputs": [],
   "source": [
    "data"
   ]
  },
  {
   "cell_type": "code",
   "execution_count": null,
   "id": "ba94c505",
   "metadata": {},
   "outputs": [],
   "source": [
    "data['text']=data['text'].apply('',join)"
   ]
  },
  {
   "cell_type": "code",
   "execution_count": null,
   "id": "2aa84eab",
   "metadata": {},
   "outputs": [],
   "source": [
    "#splitting\n",
    "from sklearn.model_selection import train_test_split\n",
    "X_train,X_test,y_train,y_test=train_test_split(data['text'],data['genuineness'],test_size=0.25)\n",
    "display(X_train.head())\n",
    "print('\\n')\n",
    "display(y_train.head())"
   ]
  },
  {
   "cell_type": "code",
   "execution_count": null,
   "id": "c235cf0f",
   "metadata": {},
   "outputs": [],
   "source": [
    "#vectorization\n",
    "from sklearn.feature_extraction.text import TfidVectorizer\n",
    "my_tfidf=TfidVectorizer(max_df=0.7)\n",
    "tfidf_train=my_tfidf.fit_transform(x_train)\n",
    "tfidf_test=my_tfidf.transform(X_test)"
   ]
  },
  {
   "cell_type": "code",
   "execution_count": null,
   "id": "3979a931",
   "metadata": {},
   "outputs": [],
   "source": [
    "print(tfidf_train)"
   ]
  },
  {
   "cell_type": "code",
   "execution_count": null,
   "id": "7cc4445d",
   "metadata": {},
   "outputs": [],
   "source": [
    "#lr\n",
    "from sklearn.linear_model import LogisticRegression\n",
    "model_1=LogisticRegression(max_iter=900)\n",
    "model_1.fit(tfidf_train,y_train)"
   ]
  },
  {
   "cell_type": "code",
   "execution_count": null,
   "id": "0152a21c",
   "metadata": {},
   "outputs": [],
   "source": [
    "from sklearn.metries import accuracy_score\n",
    "pred_1=model_1=.predict(tfidf_test)\n",
    "cr1=accuracy_score(y_test,pred_1)\n",
    "print(cr1*100)"
   ]
  },
  {
   "cell_type": "code",
   "execution_count": null,
   "id": "519ee2a1",
   "metadata": {},
   "outputs": [],
   "source": [
    "#passive aggressive classifier\n",
    "from sklearn.linear_model import PassiveAggressiveClassifier\n",
    "model=PassiveAggressiveClassifier(max_iter=50)\n",
    "model.fit(tfidf_train,y_train)"
   ]
  },
  {
   "cell_type": "code",
   "execution_count": null,
   "id": "692d1044",
   "metadata": {},
   "outputs": [],
   "source": [
    "y_pred=model.predict(tfidf_test)\n",
    "accscore=accuracy_score(y_test,y_pred)\n",
    "print('the accuracy of prediction is',accscore*100)"
   ]
  },
  {
   "cell_type": "code",
   "execution_count": null,
   "id": "5fcce5c7",
   "metadata": {},
   "outputs": [],
   "source": []
  }
 ],
 "metadata": {
  "kernelspec": {
   "display_name": "Python 3.9.7 ('base')",
   "language": "python",
   "name": "python3"
  },
  "language_info": {
   "codemirror_mode": {
    "name": "ipython",
    "version": 3
   },
   "file_extension": ".py",
   "mimetype": "text/x-python",
   "name": "python",
   "nbconvert_exporter": "python",
   "pygments_lexer": "ipython3",
   "version": "3.9.7"
  },
  "vscode": {
   "interpreter": {
    "hash": "cedb454ee0ad218e98517ba5467edaa494ee8f64b8ece079b8074acfad84bdf8"
   }
  }
 },
 "nbformat": 4,
 "nbformat_minor": 5
}
